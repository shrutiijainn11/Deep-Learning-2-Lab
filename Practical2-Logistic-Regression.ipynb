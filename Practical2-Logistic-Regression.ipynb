{
  "nbformat": 4,
  "nbformat_minor": 0,
  "metadata": {
    "colab": {
      "provenance": []
    },
    "kernelspec": {
      "name": "python3",
      "display_name": "Python 3"
    },
    "language_info": {
      "name": "python"
    }
  },
  "cells": [
    {
      "cell_type": "code",
      "execution_count": 2,
      "metadata": {
        "colab": {
          "base_uri": "https://localhost:8080/",
          "height": 0
        },
        "id": "n2kssVDc1z4j",
        "outputId": "fc51d7b6-47fb-460b-8765-46b539f1d449"
      },
      "outputs": [
        {
          "output_type": "stream",
          "name": "stdout",
          "text": [
            "Accuracy: 77.22%\n",
            "Confusion Matrix:\n",
            "[[45  7]\n",
            " [11 16]]\n"
          ]
        }
      ],
      "source": [
        "import pandas as pd\n",
        "from sklearn.model_selection import train_test_split\n",
        "from sklearn.preprocessing import StandardScaler\n",
        "from sklearn.linear_model import LogisticRegression\n",
        "from sklearn.metrics import accuracy_score, confusion_matrix\n",
        "\n",
        "# Load the dataset\n",
        "df = pd.read_csv('/content/PimaIndians.csv')\n",
        "\n",
        "# Encode the target variable 'test' (positif/negatif) into numerical form\n",
        "df['test'] = df['test'].apply(lambda x: 1 if x == 'positif' else 0)\n",
        "\n",
        "# Features (X) and target (y)\n",
        "X = df.drop('test', axis=1)\n",
        "y = df['test']\n",
        "\n",
        "# Normalize the features\n",
        "scaler = StandardScaler()\n",
        "X = scaler.fit_transform(X)\n",
        "\n",
        "# Split the dataset into training (80%) and testing (20%) sets\n",
        "X_train, X_test, y_train, y_test = train_test_split(X, y, test_size=0.2, random_state=42)\n",
        "\n",
        "# Design the logistic regression model\n",
        "model = LogisticRegression(max_iter=200)\n",
        "\n",
        "# Train the model\n",
        "model.fit(X_train, y_train)\n",
        "\n",
        "# Make predictions on the test set\n",
        "y_pred = model.predict(X_test)\n",
        "\n",
        "# Evaluate the model\n",
        "accuracy = accuracy_score(y_test, y_pred)\n",
        "conf_matrix = confusion_matrix(y_test, y_pred)\n",
        "\n",
        "# Print the accuracy and confusion matrix\n",
        "print(f'Accuracy: {accuracy * 100:.2f}%')\n",
        "print('Confusion Matrix:')\n",
        "print(conf_matrix)\n"
      ]
    },
    {
      "cell_type": "code",
      "source": [],
      "metadata": {
        "id": "sxLf3iR-3vlN"
      },
      "execution_count": null,
      "outputs": []
    }
  ]
}