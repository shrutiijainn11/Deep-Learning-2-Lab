{
  "nbformat": 4,
  "nbformat_minor": 0,
  "metadata": {
    "colab": {
      "provenance": []
    },
    "kernelspec": {
      "name": "python3",
      "display_name": "Python 3"
    },
    "language_info": {
      "name": "python"
    }
  },
  "cells": [
    {
      "cell_type": "code",
      "execution_count": 18,
      "metadata": {
        "id": "GUyxmuLwezKc"
      },
      "outputs": [],
      "source": [
        "import torch\n",
        "import torch.nn as nn\n",
        "import torch.optim as optim\n",
        "import numpy as np\n",
        "import matplotlib.pyplot as plt"
      ]
    },
    {
      "cell_type": "code",
      "source": [
        "# Function to generate real data (noisy polynomial)\n",
        "def real_function(x):\n",
        "  return 2 * x**2 + 3 * x + 1 + np.random.normal(0, 5, x.shape)"
      ],
      "metadata": {
        "id": "p0pU4ezEhzK4"
      },
      "execution_count": 19,
      "outputs": []
    },
    {
      "cell_type": "code",
      "source": [
        "# Generate fake data from the model (true polynomial without noise)\n",
        "def fake_function(x):\n",
        "  return 2 * x**2 + 3 * x + 1"
      ],
      "metadata": {
        "id": "DEGo3dbphzGg"
      },
      "execution_count": 20,
      "outputs": []
    },
    {
      "cell_type": "code",
      "source": [
        "# Generate real and fake datasets\n",
        "x = np.linspace(-10, 10, 100).reshape(-1, 1)\n",
        "y_real = real_function(x)\n",
        "y_fake = fake_function(x)"
      ],
      "metadata": {
        "id": "V-kq5NRNhzBP"
      },
      "execution_count": 21,
      "outputs": []
    },
    {
      "cell_type": "code",
      "source": [
        "# Prepare PyTorch datasets\n",
        "real_data = torch.tensor(np.hstack((x, y_real)), dtype=torch.float32)\n",
        "fake_data = torch.tensor(np.hstack((x, y_fake)), dtype=torch.float32)"
      ],
      "metadata": {
        "id": "GABViwSchy-l"
      },
      "execution_count": 22,
      "outputs": []
    },
    {
      "cell_type": "code",
      "source": [
        "# Discriminator Model\n",
        "class DiscriminatorFunction(nn.Module):\n",
        "  def __init__(self):\n",
        "    super(DiscriminatorFunction, self).__init__()\n",
        "    self.model = nn.Sequential(\n",
        "    nn.Linear(2, 128), # Input x, y\n",
        "    nn.ReLU(),\n",
        "    nn.Linear(128, 64),\n",
        "    nn.ReLU(),\n",
        "    nn.Linear(64, 1),\n",
        "    nn.Sigmoid() # Output probability real or fake\n",
        "    )\n",
        "  def forward(self, x):\n",
        "    return self.model(x)"
      ],
      "metadata": {
        "id": "cNrJhwwqhy7m"
      },
      "execution_count": 23,
      "outputs": []
    },
    {
      "cell_type": "code",
      "source": [
        "# Initialize the model, loss function, and optimizer\n",
        "discriminator = DiscriminatorFunction()\n",
        "criterion = nn.BCELoss()\n",
        "optimizer = optim.Adam(discriminator.parameters(), lr=0.001)"
      ],
      "metadata": {
        "id": "ewysXCdZhy4n"
      },
      "execution_count": 24,
      "outputs": []
    },
    {
      "cell_type": "code",
      "source": [
        "# Training loop\n",
        "n_epochs = 1000\n",
        "for epoch in range(n_epochs):\n",
        "  # Train on real data\n",
        "  optimizer.zero_grad()\n",
        "  real_labels = torch.ones(real_data.size(0), 1)\n",
        "  real_output = discriminator(real_data)\n",
        "  real_loss = criterion(real_output, real_labels)\n",
        "  # Train on fake data\n",
        "  fake_labels = torch.zeros(fake_data.size(0), 1)\n",
        "  fake_output = discriminator(fake_data)\n",
        "  fake_loss = criterion(fake_output, fake_labels)\n",
        "  # Combine losses and backpropagate\n",
        "  loss = real_loss + fake_loss\n",
        "  loss.backward()\n",
        "  optimizer.step()\n",
        "  if epoch % 100 == 0:\n",
        "    print(f'Epoch {epoch}/{n_epochs}, Loss: {loss.item()}')"
      ],
      "metadata": {
        "colab": {
          "base_uri": "https://localhost:8080/"
        },
        "id": "GZWFqmy-hy1p",
        "outputId": "8d8ad20e-c919-4682-a712-ca6d16d8d72b"
      },
      "execution_count": 25,
      "outputs": [
        {
          "output_type": "stream",
          "name": "stdout",
          "text": [
            "Epoch 0/1000, Loss: 4.620163440704346\n",
            "Epoch 100/1000, Loss: 1.3073935508728027\n",
            "Epoch 200/1000, Loss: 1.256849765777588\n",
            "Epoch 300/1000, Loss: 1.232413411140442\n",
            "Epoch 400/1000, Loss: 1.2164956331253052\n",
            "Epoch 500/1000, Loss: 1.2020933628082275\n",
            "Epoch 600/1000, Loss: 1.1854170560836792\n",
            "Epoch 700/1000, Loss: 1.168612003326416\n",
            "Epoch 800/1000, Loss: 1.1574373245239258\n",
            "Epoch 900/1000, Loss: 1.139295220375061\n"
          ]
        }
      ]
    },
    {
      "cell_type": "code",
      "source": [
        "# Test the discriminator on some data points\n",
        "test_x = np.linspace(-10, 10, 20).reshape(-1, 1)\n",
        "\n",
        "test_y_real = real_function(test_x)\n",
        "test_y_fake = fake_function(test_x)\n",
        "\n",
        "test_real_data = torch.tensor(np.hstack((test_x, test_y_real)), dtype=torch.float32)\n",
        "test_fake_data = torch.tensor(np.hstack((test_x, test_y_fake)), dtype=torch.float32)\n",
        "\n",
        "real_prob = discriminator(test_real_data).detach().numpy()\n",
        "fake_prob = discriminator(test_fake_data).detach().numpy()"
      ],
      "metadata": {
        "id": "pMVL9Ho1hyyu"
      },
      "execution_count": 26,
      "outputs": []
    },
    {
      "cell_type": "code",
      "source": [
        "# Plot the results\n",
        "plt.scatter(test_x, test_y_real, c='blue', label='Real Data')\n",
        "plt.scatter(test_x, test_y_fake, c='red', label='Fake Data')\n",
        "plt.legend()\n",
        "plt.title('Real vs Fake Data')"
      ],
      "metadata": {
        "colab": {
          "base_uri": "https://localhost:8080/",
          "height": 469
        },
        "id": "XyJ9-23Whyv-",
        "outputId": "0f44880e-cd97-40e5-8ce5-5a74f23048c7"
      },
      "execution_count": 27,
      "outputs": [
        {
          "output_type": "execute_result",
          "data": {
            "text/plain": [
              "Text(0.5, 1.0, 'Real vs Fake Data')"
            ]
          },
          "metadata": {},
          "execution_count": 27
        },
        {
          "output_type": "display_data",
          "data": {
            "text/plain": [
              "<Figure size 640x480 with 1 Axes>"
            ],
            "image/png": "[encoded data removed]"
          },
          "metadata": {}
        }
      ]
    },
    {
      "cell_type": "code",
      "source": [
        "# Show discriminator confidence on data\n",
        "for i, (x_val, real_p, fake_p) in enumerate(zip(test_x, real_prob, fake_prob)):\n",
        "  print(f'x={x_val[0]:.2f}, Discriminator Real Prob={real_p[0]:.4f}, Fake Prob={fake_p[0]:.4f}')\n",
        "plt.show()\n"
      ],
      "metadata": {
        "colab": {
          "base_uri": "https://localhost:8080/"
        },
        "id": "DgTNb1fshytT",
        "outputId": "d1cfad30-493f-4d44-d067-e68a69b996d0"
      },
      "execution_count": 28,
      "outputs": [
        {
          "output_type": "stream",
          "name": "stdout",
          "text": [
            "x=-10.00, Discriminator Real Prob=0.5290, Fake Prob=0.5273\n",
            "x=-8.95, Discriminator Real Prob=0.5632, Fake Prob=0.5428\n",
            "x=-7.89, Discriminator Real Prob=0.5420, Fake Prob=0.5318\n",
            "x=-6.84, Discriminator Real Prob=0.5461, Fake Prob=0.5344\n",
            "x=-5.79, Discriminator Real Prob=0.5681, Fake Prob=0.5504\n",
            "x=-4.74, Discriminator Real Prob=0.5623, Fake Prob=0.5263\n",
            "x=-3.68, Discriminator Real Prob=0.3921, Fake Prob=0.4686\n",
            "x=-2.63, Discriminator Real Prob=0.5291, Fake Prob=0.4828\n",
            "x=-1.58, Discriminator Real Prob=0.7611, Fake Prob=0.0000\n",
            "x=-0.53, Discriminator Real Prob=1.0000, Fake Prob=0.0000\n",
            "x=0.53, Discriminator Real Prob=0.0691, Fake Prob=0.0087\n",
            "x=1.58, Discriminator Real Prob=0.4813, Fake Prob=0.2609\n",
            "x=2.63, Discriminator Real Prob=0.6088, Fake Prob=0.4686\n",
            "x=3.68, Discriminator Real Prob=0.5315, Fake Prob=0.5161\n",
            "x=4.74, Discriminator Real Prob=0.5059, Fake Prob=0.4956\n",
            "x=5.79, Discriminator Real Prob=0.5112, Fake Prob=0.4969\n",
            "x=6.84, Discriminator Real Prob=0.5118, Fake Prob=0.5123\n",
            "x=7.89, Discriminator Real Prob=0.5365, Fake Prob=0.5359\n",
            "x=8.95, Discriminator Real Prob=0.5339, Fake Prob=0.5495\n",
            "x=10.00, Discriminator Real Prob=0.6082, Fake Prob=0.5818\n"
          ]
        }
      ]
    },
    {
      "cell_type": "code",
      "source": [],
      "metadata": {
        "id": "WIsbYO7YhyqF"
      },
      "execution_count": 28,
      "outputs": []
    },
    {
      "cell_type": "code",
      "source": [],
      "metadata": {
        "id": "PUIQBRFEhynI"
      },
      "execution_count": 28,
      "outputs": []
    },
    {
      "cell_type": "code",
      "source": [],
      "metadata": {
        "id": "jhHPhUmfhykM"
      },
      "execution_count": 28,
      "outputs": []
    },
    {
      "cell_type": "code",
      "source": [],
      "metadata": {
        "id": "PSuRglg5hyhJ"
      },
      "execution_count": 28,
      "outputs": []
    }
  ]
}